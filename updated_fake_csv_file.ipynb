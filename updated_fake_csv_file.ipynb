{
 "cells": [
  {
   "cell_type": "code",
   "execution_count": 1,
   "metadata": {},
   "outputs": [],
   "source": [
    "from faker import Faker\n",
    "from faker.providers import BaseProvider\n",
    "import random as r\n",
    "import numpy as np\n",
    "import csv\n",
    "fake = Faker()"
   ]
  },
  {
   "cell_type": "code",
   "execution_count": 9,
   "metadata": {},
   "outputs": [],
   "source": [
    "class AreaTech(BaseProvider):\n",
    "    def area_tech(self):\n",
    "        return r.choice([\"Back-end\", \"Full-Stack\", \"AI\", \"Front-end\", ])\n",
    "\n",
    "class AreaArts(BaseProvider):\n",
    "    def area_art(self):\n",
    "        return r.choice([\"Policy\", \"Design\", \"Marketing\", \"Business\"])\n",
    "\n",
    "class TrackProvider(BaseProvider):\n",
    "    def track(self):\n",
    "        return r.choice([\"Policy\", \"General\", \"Beginner\"])\n",
    "\n",
    "class MajorProviderTech(BaseProvider):\n",
    "    def major_tech(self):\n",
    "        return r.choice([\"Computer Science\", \"Mechanical Engineering\", \"Electrical Engineering\", \"Computer Engineering\", \"Math\", \"Cognitive Science\"])\n",
    "\n",
    "class MajorProviderPolicy(BaseProvider):\n",
    "    def major_art(self):\n",
    "        return r.choice([\"Economics\", \"Political Science\", \"Management\", \"Psychology\", \"Sociology\"])\n",
    "       \n",
    "class MinorProvider(BaseProvider):\n",
    "    def minor(self):\n",
    "        return r.choice([\"Biology\", \"Statistics\", \"Physics\", \"\", \"Finance\", \"Marketing\", \"Geology\", \"Communication\"])\n",
    "    \n",
    "fake.add_provider(TrackProvider)\n",
    "\n",
    "fake.add_provider(MajorProviderTech)\n",
    "\n",
    "fake.add_provider(MajorProviderPolicy)\n",
    "\n",
    "fake.add_provider(AreaTech)\n",
    "\n",
    "fake.add_provider(AreaArts)\n",
    "\n",
    "fake.add_provider(MinorProvider)\n",
    "    \n",
    "def get_name():\n",
    "    return fake.name()\n",
    "\n",
    "def get_age():\n",
    "    return r.randint(17, 23)\n",
    "\n",
    "def get_experience():\n",
    "    return r.randint(0,4)\n",
    "    \n",
    "def create_person_techie():\n",
    "    return [get_name(), get_experience(), get_age(), fake.area_tech(), fake.track(), fake.major_tech(), fake.minor()]\n",
    "\n",
    "def create_person_art():\n",
    "    return [get_name(), get_experience(), get_age(), fake.area_art(), fake.track(), fake.major_art(), fake.minor()]\n",
    "\n",
    "with open('updated_person_data.csv', 'w') as csvfile:\n",
    "    writer = csv.writer(csvfile)\n",
    "    writer.writerow(['Name', 'Experience (Years)', 'Age', 'Specialty', 'Track', 'Major', 'Minor'])\n",
    "    for n in range(1, 70000):\n",
    "        writer.writerow(create_person_techie())\n",
    "    for n in range(1, 3000):\n",
    "        writer.writerow(create_person_art())"
   ]
  },
  {
   "cell_type": "code",
   "execution_count": null,
   "metadata": {},
   "outputs": [],
   "source": []
  }
 ],
 "metadata": {
  "kernelspec": {
   "display_name": "Python 3",
   "language": "python",
   "name": "python3"
  },
  "language_info": {
   "codemirror_mode": {
    "name": "ipython",
    "version": 3
   },
   "file_extension": ".py",
   "mimetype": "text/x-python",
   "name": "python",
   "nbconvert_exporter": "python",
   "pygments_lexer": "ipython3",
   "version": "3.8.3"
  }
 },
 "nbformat": 4,
 "nbformat_minor": 4
}
